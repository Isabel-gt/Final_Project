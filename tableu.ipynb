{
 "cells": [
  {
   "cell_type": "code",
   "execution_count": 1,
   "id": "a448cef8",
   "metadata": {},
   "outputs": [],
   "source": [
    "import pandas as pd\n",
    "\n",
    "\n",
    "# File to Load (Remember to change these)\n",
    "diabetes_indicators_to_load = \"diabetes_binary_health_indicators_YN.csv\"\n"
   ]
  },
  {
   "cell_type": "code",
   "execution_count": 2,
   "id": "e2b19ccc",
   "metadata": {},
   "outputs": [],
   "source": [
    "# 1. Create a DataFrame for the 201908-citibike-tripdata data. \n",
    "\n",
    "diabetes_Y_df = pd.read_csv(diabetes_indicators_to_load)"
   ]
  },
  {
   "cell_type": "code",
   "execution_count": 3,
   "id": "2aec6503",
   "metadata": {},
   "outputs": [
    {
     "data": {
      "text/plain": [
       "Diabetes_binary         object\n",
       "HighBP                   int64\n",
       "HighChol                 int64\n",
       "CholCheck                int64\n",
       "BMI                      int64\n",
       "Smoker                   int64\n",
       "Stroke                   int64\n",
       "HeartDiseaseorAttack     int64\n",
       "PhysActivity             int64\n",
       "Fruits                   int64\n",
       "Veggies                  int64\n",
       "HvyAlcoholConsump       object\n",
       "AnyHealthcare            int64\n",
       "NoDocbcCost              int64\n",
       "GenHlth                  int64\n",
       "MentHlth                 int64\n",
       "PhysHlth                 int64\n",
       "DiffWalk                 int64\n",
       "Sex                      int64\n",
       "Age                      int64\n",
       "Education                int64\n",
       "Income                  object\n",
       "dtype: object"
      ]
     },
     "execution_count": 3,
     "metadata": {},
     "output_type": "execute_result"
    }
   ],
   "source": [
    "# 2. Check the datatypes of your columns. \n",
    "diabetes_Y_df.dtypes"
   ]
  },
  {
   "cell_type": "code",
   "execution_count": 5,
   "id": "b471aff4",
   "metadata": {},
   "outputs": [
    {
     "name": "stdout",
     "output_type": "stream",
     "text": [
      "       Diabetes_binary  HighBP  HighChol  CholCheck  BMI  Smoker  Stroke  \\\n",
      "0          No Diabetes       1         1          1   40       1       0   \n",
      "1          No Diabetes       0         0          0   25       1       0   \n",
      "2          No Diabetes       1         1          1   28       0       0   \n",
      "3          No Diabetes       1         0          1   27       0       0   \n",
      "4          No Diabetes       1         1          1   24       0       0   \n",
      "...                ...     ...       ...        ...  ...     ...     ...   \n",
      "253675     No Diabetes       1         1          1   45       0       0   \n",
      "253676        Diabetes       1         1          1   18       0       0   \n",
      "253677     No Diabetes       0         0          1   28       0       0   \n",
      "253678     No Diabetes       1         0          1   23       0       0   \n",
      "253679        Diabetes       1         1          1   25       0       0   \n",
      "\n",
      "        HeartDiseaseorAttack  PhysActivity  Fruits  ...  AnyHealthcare  \\\n",
      "0                          0             0       0  ...              1   \n",
      "1                          0             1       0  ...              0   \n",
      "2                          0             0       1  ...              1   \n",
      "3                          0             1       1  ...              1   \n",
      "4                          0             1       1  ...              1   \n",
      "...                      ...           ...     ...  ...            ...   \n",
      "253675                     0             0       1  ...              1   \n",
      "253676                     0             0       0  ...              1   \n",
      "253677                     0             1       1  ...              1   \n",
      "253678                     0             0       1  ...              1   \n",
      "253679                     1             1       1  ...              1   \n",
      "\n",
      "       NoDocbcCost  GenHlth  MentHlth  PhysHlth  DiffWalk  Sex  Age  \\\n",
      "0                0        5        18        15         1    0    9   \n",
      "1                1        3         0         0         0    0    7   \n",
      "2                1        5        30        30         1    0    9   \n",
      "3                0        2         0         0         0    0   11   \n",
      "4                0        2         3         0         0    0   11   \n",
      "...            ...      ...       ...       ...       ...  ...  ...   \n",
      "253675           0        3         0         5         0    1    5   \n",
      "253676           0        4         0         0         1    0   11   \n",
      "253677           0        1         0         0         0    0    2   \n",
      "253678           0        3         0         0         0    1    7   \n",
      "253679           0        2         0         0         0    0    9   \n",
      "\n",
      "        Education     Income  \n",
      "0               4   $20,000   \n",
      "1               6   $10,000   \n",
      "2               4   $75,999   \n",
      "3               3   $50,000   \n",
      "4               5   $25,000   \n",
      "...           ...        ...  \n",
      "253675          6   $75,000   \n",
      "253676          2   $25,000   \n",
      "253677          5   $15,000   \n",
      "253678          5   $10,000   \n",
      "253679          6   $15,000   \n",
      "\n",
      "[253680 rows x 22 columns]\n"
     ]
    }
   ],
   "source": [
    "print(diabetes_Y_df)"
   ]
  },
  {
   "cell_type": "code",
   "execution_count": null,
   "id": "c05acbb6",
   "metadata": {},
   "outputs": [],
   "source": [
    "no_diabetes_df = no_diabetes_df[no_diabestes_df.groupby('Diabetes_binary')]"
   ]
  }
 ],
 "metadata": {
  "kernelspec": {
   "display_name": "PythonData",
   "language": "python",
   "name": "pythondata"
  },
  "language_info": {
   "codemirror_mode": {
    "name": "ipython",
    "version": 3
   },
   "file_extension": ".py",
   "mimetype": "text/x-python",
   "name": "python",
   "nbconvert_exporter": "python",
   "pygments_lexer": "ipython3",
   "version": "3.7.13"
  }
 },
 "nbformat": 4,
 "nbformat_minor": 5
}
