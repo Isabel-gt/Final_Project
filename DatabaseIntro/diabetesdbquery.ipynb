from pathlib import Path
import pandas as pd
import numpy as np
import sqlite3
import sqlalchemy
from sqlalchemy.ext.automap import automap_base
from sqlalchemy.orm import Session
from sqlalchemy import create_engine, func, jsonify

engine = create_engine("sqlite:///DNFinal_project.sqlite")
Base = automap_base()
Base.prepare(engine, reflect=True)
Base.classes.keys()

session = Session(engine)

conn = sqlite3.connect('DNFinal_Project.db')
c = conn.cursor()
# write the data to a sqlite table
c.execute('''SELECT * FROM diabetes''').fetchall()


def Glucose():
    results = session.query(Glucose.glucose).all()
    Glucose = list(np.ravel(results))
    return jsonify(Glucose=Glucose)


conn.commit()
# closing the database connection
conn.close()
